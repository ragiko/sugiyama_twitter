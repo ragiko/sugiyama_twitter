{
 "cells": [
  {
   "cell_type": "markdown",
   "metadata": {},
   "source": [
    "# 準備\n",
    "- ツイッターのAPIが利用できるように、twitter developersで頑張って設定し、下記を取得する\n",
    "    - consumer-key\n",
    "    - consumer-secret\n",
    "- 下記のtwurlを設定する\n",
    "    - https://github.com/twitter/twurl"
   ]
  },
  {
   "cell_type": "markdown",
   "metadata": {},
   "source": [
    "# キーワード検索からアカウントをフォローする\n",
    "## 概要\n",
    "- 下記の対象のユーザをフォローする\n",
    "    - ユーザ名にキーワードが存在するもの (未実装)\n",
    "    - キーワードにひっかかったツイートを行なったアカウント\n",
    "\n",
    "##  資料\n",
    "- 検索時のクエリの作り方\n",
    "     - https://developer.twitter.com/en/docs/tweets/search/guides/standard-operators"
   ]
  },
  {
   "cell_type": "code",
   "execution_count": 68,
   "metadata": {},
   "outputs": [],
   "source": [
    "import subprocess\n",
    "import urllib\n",
    "\n",
    "def search(query):\n",
    "    q = urllib.parse.quote_plus(query)\n",
    "    res = subprocess.check_output(f\"twurl /1.1/search/tweets.json?q={q}&result_type=popular\", shell=True)\n",
    "    return json.loads(res.decode('utf-8'))\n",
    "\n",
    "def follow(user_id):\n",
    "    res = subprocess.check_output(f\"twurl -X POST '/1.1/friendships/create.json?user_id={user_id}&follow=true'\", shell=True)\n",
    "    return json.loads(res.decode('utf-8'))"
   ]
  },
  {
   "cell_type": "code",
   "execution_count": 69,
   "metadata": {},
   "outputs": [
    {
     "name": "stdout",
     "output_type": "stream",
     "text": [
      "follow Gallexier\n",
      "follow jesseoul\n",
      "follow 1blackdiamond_\n",
      "follow tetsuai\n",
      "follow jennywhiley1983\n",
      "follow lilcherriesodax\n",
      "follow robf2106\n",
      "follow judimg\n",
      "follow Suchis498\n",
      "follow _Chimmmmm\n",
      "follow amandalamprech4\n",
      "follow KatieMarinovic1\n"
     ]
    }
   ],
   "source": [
    "import json\n",
    "for i, status in enumerate(search(\"watching now\")[\"statuses\"]):\n",
    "    user_id = status[\"user\"][\"id\"]\n",
    "    a = follow(user_id)\n",
    "    print(\"follow\", a[\"screen_name\"])\n",
    "    if i > 10:\n",
    "        break"
   ]
  },
  {
   "cell_type": "markdown",
   "metadata": {},
   "source": [
    "# フォローされていない人のフォローを解除\n",
    "## 概要\n",
    "- 自分がフォローしている相手からフォローされていない場合、フォローを解除\n",
    "\n",
    "##  資料\n",
    "- フォロアー・フォローアカウントの取得\n",
    "    - https://developer.twitter.com/en/docs/accounts-and-users/follow-search-get-users/api-reference/get-friends-list"
   ]
  },
  {
   "cell_type": "code",
   "execution_count": 70,
   "metadata": {},
   "outputs": [],
   "source": [
    "def get_frend_ids(my_screen_name):\n",
    "    res = subprocess.check_output(f\"twurl /1.1/friends/ids.json?screen_name={my_screen_name}\", shell=True)\n",
    "    return json.loads(res.decode('utf-8'))\n",
    "\n",
    "def get_follower_ids(my_screen_name):\n",
    "    res = subprocess.check_output(f\"twurl /1.1/followers/ids.json?screen_name={my_screen_name}\", shell=True)\n",
    "    return json.loads(res.decode('utf-8'))\n",
    "\n",
    "def destory_friendship(user_id):\n",
    "    res = subprocess.check_output(f\"twurl  -X POST /1.1/friendships/destroy.json?user_id={user_id}\", shell=True)\n",
    "    return json.loads(res.decode('utf-8'))"
   ]
  },
  {
   "cell_type": "code",
   "execution_count": 71,
   "metadata": {},
   "outputs": [
    {
     "name": "stdout",
     "output_type": "stream",
     "text": [
      "unfollow Suchis498\n",
      "unfollow _Chimmmmm\n",
      "unfollow 1blackdiamond_\n",
      "unfollow jesseoul\n",
      "unfollow robf2106\n",
      "unfollow jennywhiley1983\n",
      "unfollow tetsuai\n",
      "unfollow lilcherriesodax\n",
      "unfollow judimg\n",
      "unfollow amandalamprech4\n",
      "unfollow Gallexier\n",
      "unfollow KatieMarinovic1\n"
     ]
    }
   ],
   "source": [
    "friend_ids = set([x for x  in get_frend_ids(\"hragiko\")[\"ids\"]])\n",
    "follower_ids = set([x for x  in get_follower_ids(\"hragiko\")[\"ids\"]])\n",
    "\n",
    "# フォローしてるけどフォローされていない人は、アンフォロー\n",
    "for x in list(friend_ids - follower_ids):\n",
    "    a = destory_friendship(x)\n",
    "    print(\"unfollow\", a[\"screen_name\"])"
   ]
  },
  {
   "cell_type": "markdown",
   "metadata": {},
   "source": [
    "# フォローされたらDMを返す\n",
    "## 概要\n",
    "- Webフックを使って実装は可能そうではあるが、プレミアムメンバーになる必要があり、課金が発生するよう。\n",
    "- 課金が発生するため、未実装\n",
    "\n",
    "## 資料\n",
    "- https://developer.twitter.com/en/docs/accounts-and-users/subscribe-account-activity/overview.html"
   ]
  },
  {
   "cell_type": "code",
   "execution_count": null,
   "metadata": {},
   "outputs": [],
   "source": []
  }
 ],
 "metadata": {
  "kernelspec": {
   "display_name": "Python 3",
   "language": "python",
   "name": "python3"
  },
  "language_info": {
   "codemirror_mode": {
    "name": "ipython",
    "version": 3
   },
   "file_extension": ".py",
   "mimetype": "text/x-python",
   "name": "python",
   "nbconvert_exporter": "python",
   "pygments_lexer": "ipython3",
   "version": "3.6.5"
  },
  "toc": {
   "nav_menu": {},
   "number_sections": true,
   "sideBar": true,
   "skip_h1_title": false,
   "title_cell": "Table of Contents",
   "title_sidebar": "Contents",
   "toc_cell": false,
   "toc_position": {},
   "toc_section_display": true,
   "toc_window_display": false
  }
 },
 "nbformat": 4,
 "nbformat_minor": 2
}
